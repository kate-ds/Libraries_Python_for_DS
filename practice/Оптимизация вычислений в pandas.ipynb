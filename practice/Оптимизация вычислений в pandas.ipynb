{
 "cells": [
  {
   "cell_type": "code",
   "execution_count": 1,
   "metadata": {},
   "outputs": [],
   "source": [
    "import numpy as np\n",
    "import pandas as pd\n",
    "from tqdm import tqdm\n",
    "\n",
    "path = \"https://raw.githubusercontent.com/neohoft/Learn_pandas/master/Notebooks/Data/new_york_hotels.csv\""
   ]
  },
  {
   "cell_type": "code",
   "execution_count": 3,
   "metadata": {},
   "outputs": [
    {
     "name": "stdout",
     "output_type": "stream",
     "text": [
      "data.shape = 20640 rows, 11 cols\n"
     ]
    },
    {
     "data": {
      "text/html": [
       "<div>\n",
       "<style scoped>\n",
       "    .dataframe tbody tr th:only-of-type {\n",
       "        vertical-align: middle;\n",
       "    }\n",
       "\n",
       "    .dataframe tbody tr th {\n",
       "        vertical-align: top;\n",
       "    }\n",
       "\n",
       "    .dataframe thead th {\n",
       "        text-align: right;\n",
       "    }\n",
       "</style>\n",
       "<table border=\"1\" class=\"dataframe\">\n",
       "  <thead>\n",
       "    <tr style=\"text-align: right;\">\n",
       "      <th></th>\n",
       "      <th>longitude</th>\n",
       "      <th>latitude</th>\n",
       "      <th>housing_median_age</th>\n",
       "      <th>total_rooms</th>\n",
       "      <th>total_bedrooms</th>\n",
       "      <th>population</th>\n",
       "      <th>households</th>\n",
       "      <th>median_income</th>\n",
       "      <th>median_house_value</th>\n",
       "      <th>ocean_proximity</th>\n",
       "      <th>id</th>\n",
       "    </tr>\n",
       "  </thead>\n",
       "  <tbody>\n",
       "    <tr>\n",
       "      <th>0</th>\n",
       "      <td>-122.23</td>\n",
       "      <td>37.88</td>\n",
       "      <td>41.0</td>\n",
       "      <td>880.0</td>\n",
       "      <td>129.0</td>\n",
       "      <td>322.0</td>\n",
       "      <td>126.0</td>\n",
       "      <td>8.3252</td>\n",
       "      <td>452600.0</td>\n",
       "      <td>NEAR BAY</td>\n",
       "      <td>0</td>\n",
       "    </tr>\n",
       "    <tr>\n",
       "      <th>1</th>\n",
       "      <td>-122.22</td>\n",
       "      <td>37.86</td>\n",
       "      <td>21.0</td>\n",
       "      <td>7099.0</td>\n",
       "      <td>1106.0</td>\n",
       "      <td>2401.0</td>\n",
       "      <td>1138.0</td>\n",
       "      <td>8.3014</td>\n",
       "      <td>358500.0</td>\n",
       "      <td>NEAR BAY</td>\n",
       "      <td>1</td>\n",
       "    </tr>\n",
       "  </tbody>\n",
       "</table>\n",
       "</div>"
      ],
      "text/plain": [
       "   longitude  latitude  housing_median_age  total_rooms  total_bedrooms  \\\n",
       "0    -122.23     37.88                41.0        880.0           129.0   \n",
       "1    -122.22     37.86                21.0       7099.0          1106.0   \n",
       "\n",
       "   population  households  median_income  median_house_value ocean_proximity  \\\n",
       "0       322.0       126.0         8.3252            452600.0        NEAR BAY   \n",
       "1      2401.0      1138.0         8.3014            358500.0        NEAR BAY   \n",
       "\n",
       "   id  \n",
       "0   0  \n",
       "1   1  "
      ]
     },
     "execution_count": 3,
     "metadata": {},
     "output_type": "execute_result"
    }
   ],
   "source": [
    "data = pd.read_csv(path, encoding=\"cp1251\")\n",
    "print(\"data.shape = {} rows, {} cols\".format(*data.shape))\n",
    "\n",
    "data.head(n=2)"
   ]
  },
  {
   "cell_type": "code",
   "execution_count": 3,
   "metadata": {},
   "outputs": [],
   "source": [
    "def calculate_haversine(lat_x, lon_x, lat_y, lon_y):\n",
    "    \"\"\"\n",
    "    Вычисление гаверсинусов.\n",
    "\n",
    "    Parameters\n",
    "    ----------\n",
    "    lat_x: float\n",
    "        Значение широты для начальной точки.\n",
    "\n",
    "    lon_x: float\n",
    "        Значение долготы для начальной точки.\n",
    "\n",
    "    lat_y: float\n",
    "        Значение широты для конечной точки.\n",
    "\n",
    "    lon_y: float\n",
    "        Значение долготы для конечной точки.\n",
    "\n",
    "    Returns\n",
    "    -------\n",
    "    total_miles: float\n",
    "        Значение гаверсинуса.\n",
    "\n",
    "    \"\"\"\n",
    "    MILES = 3959\n",
    "    lat_x, lon_x, lat_y, lon_y = map(\n",
    "        np.deg2rad, [lat_x, lon_x, lat_y, lon_y]\n",
    "    )\n",
    "    dlat = lat_y - lat_x \n",
    "    dlon = lon_y - lon_x \n",
    "    a = np.sin(dlat/2)**2 + np.cos(lat_x) * np.cos(lat_y) * np.sin(dlon/2)**2\n",
    "    c = 2 * np.arcsin(np.sqrt(a)) \n",
    "    total_miles = MILES * c\n",
    "\n",
    "    return total_miles"
   ]
  },
  {
   "cell_type": "markdown",
   "metadata": {},
   "source": [
    "## Базовое итерирование"
   ]
  },
  {
   "cell_type": "code",
   "execution_count": 4,
   "metadata": {},
   "outputs": [],
   "source": [
    "def haversine_looping(df: pd.DataFrame) -> list:\n",
    "    \"\"\"\n",
    "    Вычисление гаверсинусов в питоновском цикле.\n",
    "    Очень медленная (по скорости работы) реализация, но\n",
    "    достаточно легкая для написания кода.\n",
    "\n",
    "    Parameters\n",
    "    ----------\n",
    "    df: pandas.core.frame.DataFrame\n",
    "        Датафрейм с набором исходных данных.\n",
    "\n",
    "    Returns\n",
    "    -------\n",
    "    distance_list: List[float]\n",
    "        Список со значениями гаверсинусов.\n",
    "\n",
    "    \"\"\"\n",
    "    distance_list = []\n",
    "    for i in tqdm(range(0, len(df))):\n",
    "        d = calculate_haversine(\n",
    "            40.671, -73.985, df.iloc[i]['latitude'], df.iloc[i]['longitude']\n",
    "        )\n",
    "        distance_list.append(d)\n",
    "    return distance_list"
   ]
  },
  {
   "cell_type": "code",
   "execution_count": 5,
   "metadata": {},
   "outputs": [
    {
     "name": "stderr",
     "output_type": "stream",
     "text": [
      "100%|██████████| 1631/1631 [00:00<00:00, 2714.77it/s]\n",
      "100%|██████████| 1631/1631 [00:00<00:00, 2628.25it/s]\n",
      "100%|██████████| 1631/1631 [00:00<00:00, 2568.30it/s]\n",
      "100%|██████████| 1631/1631 [00:00<00:00, 2544.05it/s]\n",
      "100%|██████████| 1631/1631 [00:00<00:00, 2545.63it/s]\n",
      "100%|██████████| 1631/1631 [00:00<00:00, 2500.29it/s]\n",
      "100%|██████████| 1631/1631 [00:00<00:00, 2431.43it/s]\n",
      "100%|██████████| 1631/1631 [00:00<00:00, 1994.70it/s]"
     ]
    },
    {
     "name": "stdout",
     "output_type": "stream",
     "text": [
      "671 ms ± 62.7 ms per loop (mean ± std. dev. of 7 runs, 1 loop each)\n"
     ]
    },
    {
     "name": "stderr",
     "output_type": "stream",
     "text": [
      "\n"
     ]
    }
   ],
   "source": [
    "%%timeit\n",
    "\n",
    "data[\"distance\"] = haversine_looping(data)"
   ]
  },
  {
   "cell_type": "markdown",
   "metadata": {},
   "source": [
    "## Итерирование с помощью встроенного метода .iterrows()"
   ]
  },
  {
   "cell_type": "code",
   "execution_count": 6,
   "metadata": {},
   "outputs": [],
   "source": [
    "def haversine_iterrows(df: pd.DataFrame) -> list:\n",
    "    \"\"\"\n",
    "    Вычисление гаверсинусов в питоновском цикле.\n",
    "    Очень медленная (по скорости работы) реализация, но\n",
    "    достаточно легкая для написания кода.\n",
    "\n",
    "    Parameters\n",
    "    ----------\n",
    "    df: pandas.core.frame.DataFrame\n",
    "        Датафрейм с набором исходных данных.\n",
    "\n",
    "    Returns\n",
    "    -------\n",
    "    distance_list: List[float]\n",
    "        Список со значениями гаверсинусов.\n",
    "\n",
    "    \"\"\"\n",
    "    distance_list = []\n",
    "    for index, row in tqdm(df.iterrows()):\n",
    "        d = calculate_haversine(\n",
    "            40.671, -73.985, row['latitude'], row['longitude']\n",
    "        )\n",
    "        distance_list.append(d)\n",
    "    return distance_list"
   ]
  },
  {
   "cell_type": "code",
   "execution_count": 7,
   "metadata": {},
   "outputs": [
    {
     "name": "stderr",
     "output_type": "stream",
     "text": [
      "1631it [00:00, 6426.98it/s]\n",
      "1631it [00:00, 6351.02it/s]\n",
      "1631it [00:00, 6732.28it/s]\n",
      "1631it [00:00, 6709.50it/s]\n",
      "1631it [00:00, 6942.15it/s]\n",
      "1631it [00:00, 6745.14it/s]\n",
      "1631it [00:00, 6782.63it/s]\n",
      "1631it [00:00, 6800.11it/s]"
     ]
    },
    {
     "name": "stdout",
     "output_type": "stream",
     "text": [
      "246 ms ± 5.84 ms per loop (mean ± std. dev. of 7 runs, 1 loop each)\n"
     ]
    },
    {
     "name": "stderr",
     "output_type": "stream",
     "text": [
      "\n"
     ]
    }
   ],
   "source": [
    "%%timeit\n",
    "\n",
    "data[\"distance\"] = haversine_iterrows(data)"
   ]
  },
  {
   "cell_type": "markdown",
   "metadata": {},
   "source": [
    "## Итерирование с помощью встроенного метода apply"
   ]
  },
  {
   "cell_type": "code",
   "execution_count": 8,
   "metadata": {},
   "outputs": [
    {
     "name": "stdout",
     "output_type": "stream",
     "text": [
      "78.9 ms ± 825 µs per loop (mean ± std. dev. of 7 runs, 10 loops each)\n"
     ]
    }
   ],
   "source": [
    "%%timeit\n",
    "\n",
    "data[\"distance\"] = data.apply(\n",
    "    lambda row: calculate_haversine(\n",
    "        40.671, -73.985, row[\"latitude\"], row[\"longitude\"]), axis=1\n",
    ")"
   ]
  },
  {
   "cell_type": "markdown",
   "metadata": {},
   "source": [
    "## Векторизация c помощью pandas.Series"
   ]
  },
  {
   "cell_type": "code",
   "execution_count": 9,
   "metadata": {},
   "outputs": [
    {
     "name": "stdout",
     "output_type": "stream",
     "text": [
      "2.41 ms ± 40.5 µs per loop (mean ± std. dev. of 7 runs, 100 loops each)\n"
     ]
    }
   ],
   "source": [
    "%%timeit \n",
    "\n",
    "data[\"distance\"] = calculate_haversine(\n",
    "    40.671, -73.985, data[\"latitude\"], data[\"longitude\"]\n",
    ")"
   ]
  },
  {
   "cell_type": "markdown",
   "metadata": {},
   "source": [
    "## Векторизация с помощью массивов NumPy"
   ]
  },
  {
   "cell_type": "code",
   "execution_count": 10,
   "metadata": {},
   "outputs": [
    {
     "name": "stdout",
     "output_type": "stream",
     "text": [
      "239 µs ± 4.34 µs per loop (mean ± std. dev. of 7 runs, 1000 loops each)\n"
     ]
    }
   ],
   "source": [
    "%%timeit\n",
    "\n",
    "data[\"distance\"] = calculate_haversine(\n",
    "    40.671, -73.985, data[\"latitude\"].values, data[\"longitude\"].values\n",
    ")"
   ]
  },
  {
   "cell_type": "markdown",
   "metadata": {},
   "source": [
    "## Эксперименты на более крупном наборе данных"
   ]
  },
  {
   "cell_type": "code",
   "execution_count": 11,
   "metadata": {},
   "outputs": [],
   "source": [
    "n_samples = 100000\n",
    "\n",
    "synthetic_data = pd.DataFrame({\n",
    "    \"latitude\": np.random.randint(1, 179, size=n_samples),\n",
    "    \"longitude\": np.random.randint(1, 179, size=n_samples),\n",
    "})\n",
    "\n",
    "synthetic_data[\"latitude\"] = synthetic_data[\"latitude\"] + np.random.rand(n_samples)\n",
    "synthetic_data[\"longitude\"] = synthetic_data[\"longitude\"] + np.random.rand(n_samples)"
   ]
  },
  {
   "cell_type": "markdown",
   "metadata": {},
   "source": [
    "## Итерирование с помощью цикла for"
   ]
  },
  {
   "cell_type": "code",
   "execution_count": 12,
   "metadata": {},
   "outputs": [
    {
     "name": "stderr",
     "output_type": "stream",
     "text": [
      "100%|██████████| 100000/100000 [00:30<00:00, 3309.08it/s]\n",
      "100%|██████████| 100000/100000 [00:30<00:00, 3250.56it/s]\n",
      "100%|██████████| 100000/100000 [00:30<00:00, 3258.41it/s]\n",
      "100%|██████████| 100000/100000 [00:31<00:00, 3196.59it/s]\n",
      "100%|██████████| 100000/100000 [00:31<00:00, 3161.38it/s]\n",
      "100%|██████████| 100000/100000 [00:31<00:00, 3207.23it/s]\n",
      "100%|██████████| 100000/100000 [00:31<00:00, 3144.26it/s]\n",
      "100%|██████████| 100000/100000 [00:37<00:00, 2635.21it/s]"
     ]
    },
    {
     "name": "stdout",
     "output_type": "stream",
     "text": [
      "32.2 s ± 2.38 s per loop (mean ± std. dev. of 7 runs, 1 loop each)\n"
     ]
    },
    {
     "name": "stderr",
     "output_type": "stream",
     "text": [
      "\n"
     ]
    }
   ],
   "source": [
    "%%timeit\n",
    "\n",
    "synthetic_data[\"distance\"] = haversine_looping(synthetic_data)"
   ]
  },
  {
   "cell_type": "markdown",
   "metadata": {},
   "source": [
    "## Итерирование с помощью встроенного метода iterrows"
   ]
  },
  {
   "cell_type": "code",
   "execution_count": 13,
   "metadata": {},
   "outputs": [
    {
     "name": "stderr",
     "output_type": "stream",
     "text": [
      "100000it [00:10, 9139.73it/s]\n",
      "100000it [00:12, 8035.31it/s]\n",
      "100000it [00:12, 7761.10it/s]\n",
      "100000it [00:12, 7711.03it/s]\n",
      "100000it [00:12, 8011.02it/s]\n",
      "100000it [00:12, 7868.22it/s]\n",
      "100000it [00:12, 7883.67it/s]\n",
      "100000it [00:12, 7735.97it/s]"
     ]
    },
    {
     "name": "stdout",
     "output_type": "stream",
     "text": [
      "12.8 s ± 197 ms per loop (mean ± std. dev. of 7 runs, 1 loop each)\n"
     ]
    },
    {
     "name": "stderr",
     "output_type": "stream",
     "text": [
      "\n"
     ]
    }
   ],
   "source": [
    "%%timeit\n",
    "\n",
    "synthetic_data[\"distance\"] = haversine_iterrows(synthetic_data)"
   ]
  },
  {
   "cell_type": "markdown",
   "metadata": {},
   "source": [
    "## Итерирование с помощью встроенного метода apply"
   ]
  },
  {
   "cell_type": "code",
   "execution_count": 14,
   "metadata": {},
   "outputs": [
    {
     "name": "stdout",
     "output_type": "stream",
     "text": [
      "6.03 s ± 270 ms per loop (mean ± std. dev. of 7 runs, 1 loop each)\n"
     ]
    }
   ],
   "source": [
    "%%timeit\n",
    "\n",
    "synthetic_data[\"distance\"] = synthetic_data.apply(\n",
    "    lambda row: calculate_haversine(\n",
    "        40.671, -73.985, row[\"latitude\"], row[\"longitude\"]), axis=1\n",
    ")"
   ]
  },
  {
   "cell_type": "markdown",
   "metadata": {},
   "source": [
    "## Векторизация с помощью pandas.Series"
   ]
  },
  {
   "cell_type": "code",
   "execution_count": 16,
   "metadata": {},
   "outputs": [
    {
     "name": "stdout",
     "output_type": "stream",
     "text": [
      "16 ms ± 1.07 ms per loop (mean ± std. dev. of 7 runs, 100 loops each)\n"
     ]
    }
   ],
   "source": [
    "%%timeit \n",
    "\n",
    "synthetic_data[\"distance\"] = calculate_haversine(\n",
    "    40.671, -73.985, synthetic_data[\"latitude\"], synthetic_data[\"longitude\"]\n",
    ")"
   ]
  },
  {
   "cell_type": "markdown",
   "metadata": {},
   "source": [
    "## Векторизация с помощью массивов NumPy"
   ]
  },
  {
   "cell_type": "code",
   "execution_count": 17,
   "metadata": {},
   "outputs": [
    {
     "name": "stdout",
     "output_type": "stream",
     "text": [
      "7.75 ms ± 95 µs per loop (mean ± std. dev. of 7 runs, 100 loops each)\n"
     ]
    }
   ],
   "source": [
    "%%timeit\n",
    "\n",
    "synthetic_data[\"distance\"] = calculate_haversine(\n",
    "    40.671, -73.985, synthetic_data[\"latitude\"].values, synthetic_data[\"longitude\"].values\n",
    ")"
   ]
  },
  {
   "cell_type": "code",
   "execution_count": null,
   "metadata": {},
   "outputs": [],
   "source": []
  }
 ],
 "metadata": {
  "kernelspec": {
   "display_name": "Python 3",
   "language": "python",
   "name": "python3"
  },
  "language_info": {
   "codemirror_mode": {
    "name": "ipython",
    "version": 3
   },
   "file_extension": ".py",
   "mimetype": "text/x-python",
   "name": "python",
   "nbconvert_exporter": "python",
   "pygments_lexer": "ipython3",
   "version": "3.8.6"
  }
 },
 "nbformat": 4,
 "nbformat_minor": 4
}
