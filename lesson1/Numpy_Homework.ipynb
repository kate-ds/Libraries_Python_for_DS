{
 "cells": [
  {
   "cell_type": "markdown",
   "metadata": {},
   "source": [
    "**Задание 1**  \n",
    "Импортируйте библиотеку Numpy и дайте ей псевдоним np.\n",
    "Создайте массив Numpy под названием a размером 5x2, то есть состоящий из 5 строк и 2 столбцов. Первый столбец должен содержать числа 1, 2, 3, 3, 1, а второй - числа 6, 8, 11, 10, 7. Будем считать, что каждый столбец - это признак, а строка - наблюдение. Затем найдите среднее значение по каждому признаку, используя метод mean массива Numpy. Результат запишите в массив mean_a, в нем должно быть 2 элемента."
   ]
  },
  {
   "cell_type": "code",
   "execution_count": 3,
   "metadata": {},
   "outputs": [],
   "source": [
    "import numpy as np"
   ]
  },
  {
   "cell_type": "code",
   "execution_count": 4,
   "metadata": {},
   "outputs": [
    {
     "data": {
      "text/plain": [
       "array([[ 1,  6],\n",
       "       [ 2,  8],\n",
       "       [ 3, 11],\n",
       "       [ 3, 10],\n",
       "       [ 1,  7]])"
      ]
     },
     "execution_count": 4,
     "metadata": {},
     "output_type": "execute_result"
    }
   ],
   "source": [
    "a = np.array([[1, 6], [2, 8], [3, 11], [3, 10], [1, 7]])\n",
    "a"
   ]
  },
  {
   "cell_type": "code",
   "execution_count": 5,
   "metadata": {},
   "outputs": [],
   "source": [
    "mean_a = a.mean(axis = 0)"
   ]
  },
  {
   "cell_type": "code",
   "execution_count": 6,
   "metadata": {},
   "outputs": [
    {
     "data": {
      "text/plain": [
       "array([2. , 8.4])"
      ]
     },
     "execution_count": 6,
     "metadata": {},
     "output_type": "execute_result"
    }
   ],
   "source": [
    "mean_a"
   ]
  },
  {
   "cell_type": "markdown",
   "metadata": {},
   "source": [
    "**Задание 2**  \n",
    "Вычислите массив a_centered, отняв от значений массива “а” средние значения соответствующих признаков, содержащиеся в массиве mean_a. Вычисление должно производиться в одно действие. Получившийся массив должен иметь размер 5x2.\n"
   ]
  },
  {
   "cell_type": "code",
   "execution_count": 7,
   "metadata": {},
   "outputs": [
    {
     "data": {
      "text/plain": [
       "array([[-1. , -2.4],\n",
       "       [ 0. , -0.4],\n",
       "       [ 1. ,  2.6],\n",
       "       [ 1. ,  1.6],\n",
       "       [-1. , -1.4]])"
      ]
     },
     "execution_count": 7,
     "metadata": {},
     "output_type": "execute_result"
    }
   ],
   "source": [
    "a_centered = a - mean_a\n",
    "a_centered"
   ]
  },
  {
   "cell_type": "markdown",
   "metadata": {},
   "source": [
    "**Задание 3**  \n",
    "Найдите скалярное произведение столбцов массива a_centered. В результате должна получиться величина a_centered_sp. Затем поделите a_centered_sp на N-1, где N - число наблюдений.\n"
   ]
  },
  {
   "cell_type": "code",
   "execution_count": 8,
   "metadata": {},
   "outputs": [
    {
     "data": {
      "text/plain": [
       "array([-1.,  0.,  1.,  1., -1.])"
      ]
     },
     "execution_count": 8,
     "metadata": {},
     "output_type": "execute_result"
    }
   ],
   "source": [
    "y1 = a_centered[:, :1].T\n",
    "y1 = y1.flatten()\n",
    "y1"
   ]
  },
  {
   "cell_type": "code",
   "execution_count": 9,
   "metadata": {},
   "outputs": [
    {
     "data": {
      "text/plain": [
       "array([-2.4, -0.4,  2.6,  1.6, -1.4])"
      ]
     },
     "execution_count": 9,
     "metadata": {},
     "output_type": "execute_result"
    }
   ],
   "source": [
    "y2 = a_centered[:,1:].T\n",
    "y2 = y2.flatten()\n",
    "y2"
   ]
  },
  {
   "cell_type": "code",
   "execution_count": 10,
   "metadata": {},
   "outputs": [
    {
     "data": {
      "text/plain": [
       "8.0"
      ]
     },
     "execution_count": 10,
     "metadata": {},
     "output_type": "execute_result"
    }
   ],
   "source": [
    "a_centered_sp = y1 @ y2\n",
    "a_centered_sp"
   ]
  },
  {
   "cell_type": "code",
   "execution_count": 11,
   "metadata": {},
   "outputs": [],
   "source": [
    "N = y1.shape[0]"
   ]
  },
  {
   "cell_type": "code",
   "execution_count": 12,
   "metadata": {},
   "outputs": [
    {
     "data": {
      "text/plain": [
       "2.0"
      ]
     },
     "execution_count": 12,
     "metadata": {},
     "output_type": "execute_result"
    }
   ],
   "source": [
    "a_centered_sp / (N - 1)"
   ]
  },
  {
   "cell_type": "markdown",
   "metadata": {},
   "source": [
    "**Задание 4****  \n",
    "Число, которое мы получили в конце задания 3 является ковариацией двух признаков, содержащихся в массиве “а”. В задании 4 мы делили сумму произведений центрированных признаков на N-1, а не на N, поэтому полученная нами величина является несмещенной оценкой ковариации.\n",
    "Подробнее узнать о ковариации можно здесь:\n",
    "https://studopedia.ru/9_153900_viborochnaya-kovariatsiya-i-viborochnaya-dispersiya.html\n",
    "\n",
    "В этом задании проверьте получившееся число, вычислив ковариацию еще одним способом - с помощью функции np.cov. В качестве аргумента m функция np.cov должна принимать транспонированный массив “a”. В получившейся ковариационной матрице (массив Numpy размером 2x2) искомое значение ковариации будет равно элементу в строке с индексом 0 и столбце с индексом 1.\n"
   ]
  },
  {
   "cell_type": "code",
   "execution_count": 13,
   "metadata": {},
   "outputs": [],
   "source": [
    "m = a.T"
   ]
  },
  {
   "cell_type": "code",
   "execution_count": 14,
   "metadata": {},
   "outputs": [
    {
     "data": {
      "text/plain": [
       "2.0"
      ]
     },
     "execution_count": 14,
     "metadata": {},
     "output_type": "execute_result"
    }
   ],
   "source": [
    "cov_a = np.cov(m)\n",
    "cov_a[0, 1]"
   ]
  },
  {
   "cell_type": "markdown",
   "metadata": {},
   "source": [
    "**Задание 5****  \n",
    "Создайте одномерный массив z случайных нормально распределенных целых чисел от -50 до 50 включительно размерности 8. Найдите индексы положительных объектов.\n"
   ]
  },
  {
   "cell_type": "code",
   "execution_count": 15,
   "metadata": {},
   "outputs": [
    {
     "data": {
      "text/plain": [
       "array([-20,  27,   3, -11, -35, -13,   2,   7])"
      ]
     },
     "execution_count": 15,
     "metadata": {},
     "output_type": "execute_result"
    }
   ],
   "source": [
    "from scipy.stats import truncnorm\n",
    "z = truncnorm(a=-50/30, b=50/30, scale=30).rvs(size=8).astype(int)\n",
    "z"
   ]
  },
  {
   "cell_type": "code",
   "execution_count": 16,
   "metadata": {},
   "outputs": [
    {
     "data": {
      "text/plain": [
       "(array([1, 2, 6, 7]),)"
      ]
     },
     "execution_count": 16,
     "metadata": {},
     "output_type": "execute_result"
    }
   ],
   "source": [
    "np.where(z > 0)"
   ]
  },
  {
   "cell_type": "code",
   "execution_count": 17,
   "metadata": {},
   "outputs": [
    {
     "data": {
      "text/plain": [
       "array([-16, -47,  14,  37, -33, -33, -49,  29])"
      ]
     },
     "execution_count": 17,
     "metadata": {},
     "output_type": "execute_result"
    }
   ],
   "source": [
    "np.random.seed(24)\n",
    "z = np.random.randint(-50, 50, 8)\n",
    "z"
   ]
  },
  {
   "cell_type": "code",
   "execution_count": 18,
   "metadata": {},
   "outputs": [
    {
     "data": {
      "text/plain": [
       "(array([2, 3, 7]),)"
      ]
     },
     "execution_count": 18,
     "metadata": {},
     "output_type": "execute_result"
    }
   ],
   "source": [
    "np.where(z > 0)"
   ]
  },
  {
   "cell_type": "markdown",
   "metadata": {},
   "source": [
    "**Задание 6****  \n",
    "Создайте двумерный массив X случайных равномерно распределенных целых чисел от 0 до 255 включительно размерности 10 на 5. (Здесь снова считаем, что каждый столбец - это признак, а строка - наблюдение.)\n",
    "Найдите среднее значение и стандартное отклонение по каждому признаку.\n",
    "Вычислите массив X_standard, отняв от каждого признака среднее и поделив на стандартное отклонение.\n",
    "Убедитесь, что теперь среднее в каждом признаке стало равное нулю, а стандартное отклонение равно единице.\n",
    "Это называется стандартизация данных - важный процесс подготовки данных. Более подробно можно почитать здесь (https://wiki.loginom.ru/articles/data-standartization.html)"
   ]
  },
  {
   "cell_type": "code",
   "execution_count": 19,
   "metadata": {},
   "outputs": [
    {
     "data": {
      "text/plain": [
       "array([[162, 131, 192,  87, 145],\n",
       "       [145, 129, 100, 123, 207],\n",
       "       [  4, 239, 227,  82, 139],\n",
       "       [123, 227, 115, 143, 231],\n",
       "       [ 73,  18, 119, 135, 153],\n",
       "       [163, 237, 223,  28, 128],\n",
       "       [254,  12, 223,  33, 129],\n",
       "       [ 60,  55,  70,  97, 209],\n",
       "       [134,  46,  65, 118, 175],\n",
       "       [217,  74, 163, 192, 250]])"
      ]
     },
     "execution_count": 19,
     "metadata": {},
     "output_type": "execute_result"
    }
   ],
   "source": [
    "np.random.seed(24)\n",
    "X = np.random.randint(0, 255, (10, 5))\n",
    "X"
   ]
  },
  {
   "cell_type": "code",
   "execution_count": 20,
   "metadata": {},
   "outputs": [
    {
     "data": {
      "text/plain": [
       "array([133.5, 116.8, 149.7, 103.8, 176.6])"
      ]
     },
     "execution_count": 20,
     "metadata": {},
     "output_type": "execute_result"
    }
   ],
   "source": [
    "mean_X = X.mean(axis=0)\n",
    "mean_X"
   ]
  },
  {
   "cell_type": "code",
   "execution_count": 21,
   "metadata": {},
   "outputs": [
    {
     "data": {
      "text/plain": [
       "array([70.17870047, 85.60584092, 60.68780767, 47.35145193, 42.33249343])"
      ]
     },
     "execution_count": 21,
     "metadata": {},
     "output_type": "execute_result"
    }
   ],
   "source": [
    "std_X = X.std(axis=0)\n",
    "std_X"
   ]
  },
  {
   "cell_type": "code",
   "execution_count": 22,
   "metadata": {},
   "outputs": [
    {
     "data": {
      "text/plain": [
       "array([[ 0.40610612,  0.16587653,  0.69700985, -0.35479377, -0.7464715 ],\n",
       "       [ 0.16386738,  0.14251364, -0.81894538,  0.40547859,  0.71812448],\n",
       "       [-1.84528923,  1.42747269,  1.27373196, -0.46038715, -0.8882066 ],\n",
       "       [-0.14961805,  1.28729534, -0.57177877,  0.82785212,  1.28506487],\n",
       "       [-0.86208493, -1.15412686, -0.50586767,  0.65890271, -0.55749138],\n",
       "       [ 0.42035546,  1.4041098 ,  1.20782086, -1.60079569, -1.14805427],\n",
       "       [ 1.71704519, -1.22421553,  1.20782086, -1.4952023 , -1.12443176],\n",
       "       [-1.04732632, -0.72191336, -1.31327861, -0.143607  ,  0.76536952],\n",
       "       [ 0.00712467, -0.82704637, -1.39566749,  0.29988521, -0.03779603],\n",
       "       [ 1.1898197 , -0.49996588,  0.2191544 ,  1.86266728,  1.73389267]])"
      ]
     },
     "execution_count": 22,
     "metadata": {},
     "output_type": "execute_result"
    }
   ],
   "source": [
    "X_standard = (X - mean_X) / std_X\n",
    "X_standard"
   ]
  },
  {
   "cell_type": "code",
   "execution_count": 23,
   "metadata": {},
   "outputs": [
    {
     "data": {
      "text/plain": [
       "array([0.00000000e+00, 5.55111512e-17, 1.55431223e-16, 2.22044605e-17,\n",
       "       1.55431223e-16])"
      ]
     },
     "execution_count": 23,
     "metadata": {},
     "output_type": "execute_result"
    }
   ],
   "source": [
    "X_standard.mean(axis=0)"
   ]
  },
  {
   "cell_type": "code",
   "execution_count": 24,
   "metadata": {},
   "outputs": [
    {
     "data": {
      "text/plain": [
       "array([1., 1., 1., 1., 1.])"
      ]
     },
     "execution_count": 24,
     "metadata": {},
     "output_type": "execute_result"
    }
   ],
   "source": [
    "X_standard.std(axis=0)"
   ]
  },
  {
   "cell_type": "markdown",
   "metadata": {},
   "source": [
    "**Задание 7****  \n",
    "Создайте два одномерных массива размерности 512 с любыми значениями. Будем считать, что каждый массив - это наблюдение с 512 признаками. \n",
    "Найдите разницу между двумя массивами. Далее возведите разницу в квадрат, просуммируйте все элементы нового массива и возьмите корень квадратный.\n",
    "Это получилась L2-норма (Евклидова метрика) — функция расстояния, благодаря которой можно считать насколько далеки точки друг от друга, насколько они похожи друг на друга. Более подробно здесь (https://wiki.loginom.ru/articles/euclid-distance.html)\n",
    "Посчитайте L2 норму для этих двух массивов с помощью numpy.linalg."
   ]
  },
  {
   "cell_type": "code",
   "execution_count": 25,
   "metadata": {},
   "outputs": [
    {
     "data": {
      "text/plain": [
       "466.19567944556644"
      ]
     },
     "execution_count": 25,
     "metadata": {},
     "output_type": "execute_result"
    }
   ],
   "source": [
    "np.random.seed(512)\n",
    "a = 5 * np.random.randn(512)\n",
    "b = (35 * np.random.sample(512)).astype(int) \n",
    "L2_norm = np.sqrt(np.power(a - b, 2).sum())\n",
    "L2_norm"
   ]
  },
  {
   "cell_type": "markdown",
   "metadata": {},
   "source": [
    "**Задание 8****  \n",
    "Используйте ранее созданный массив X.\n",
    "Найдите минимальное значение и максимальное по каждому признаку.\n",
    "Вычислите массив X_norm, отняв от каждого признака минимальное и поделив на разницу максимального и минимального.\n",
    "Убедитесь, что теперь минимальное значение стало равно 0, а максимальное - 1.\n",
    "Это называется нормализация данных - еще один из важных процессов подготовки данных. Более подробно здесь (https://wiki.loginom.ru/articles/data-normalization.html)"
   ]
  },
  {
   "cell_type": "code",
   "execution_count": 26,
   "metadata": {},
   "outputs": [
    {
     "data": {
      "text/plain": [
       "array([[162, 131, 192,  87, 145],\n",
       "       [145, 129, 100, 123, 207],\n",
       "       [  4, 239, 227,  82, 139],\n",
       "       [123, 227, 115, 143, 231],\n",
       "       [ 73,  18, 119, 135, 153],\n",
       "       [163, 237, 223,  28, 128],\n",
       "       [254,  12, 223,  33, 129],\n",
       "       [ 60,  55,  70,  97, 209],\n",
       "       [134,  46,  65, 118, 175],\n",
       "       [217,  74, 163, 192, 250]])"
      ]
     },
     "execution_count": 26,
     "metadata": {},
     "output_type": "execute_result"
    }
   ],
   "source": [
    "X"
   ]
  },
  {
   "cell_type": "code",
   "execution_count": 27,
   "metadata": {},
   "outputs": [
    {
     "data": {
      "text/plain": [
       "array([254, 239, 227, 192, 250])"
      ]
     },
     "execution_count": 27,
     "metadata": {},
     "output_type": "execute_result"
    }
   ],
   "source": [
    "max_X = X.max(axis=0)\n",
    "max_X"
   ]
  },
  {
   "cell_type": "code",
   "execution_count": 28,
   "metadata": {},
   "outputs": [
    {
     "data": {
      "text/plain": [
       "array([  4,  12,  65,  28, 128])"
      ]
     },
     "execution_count": 28,
     "metadata": {},
     "output_type": "execute_result"
    }
   ],
   "source": [
    "min_X = X.min(axis=0)\n",
    "min_X"
   ]
  },
  {
   "cell_type": "code",
   "execution_count": 29,
   "metadata": {},
   "outputs": [
    {
     "data": {
      "text/plain": [
       "array([250, 227, 162, 164, 122])"
      ]
     },
     "execution_count": 29,
     "metadata": {},
     "output_type": "execute_result"
    }
   ],
   "source": [
    "dif = max_X - min_X\n",
    "dif"
   ]
  },
  {
   "cell_type": "code",
   "execution_count": 30,
   "metadata": {},
   "outputs": [
    {
     "data": {
      "text/plain": [
       "array([[0.632     , 0.52422907, 0.78395062, 0.3597561 , 0.13934426],\n",
       "       [0.564     , 0.5154185 , 0.21604938, 0.57926829, 0.64754098],\n",
       "       [0.        , 1.        , 1.        , 0.32926829, 0.09016393],\n",
       "       [0.476     , 0.94713656, 0.30864198, 0.70121951, 0.8442623 ],\n",
       "       [0.276     , 0.02643172, 0.33333333, 0.65243902, 0.20491803],\n",
       "       [0.636     , 0.99118943, 0.97530864, 0.        , 0.        ],\n",
       "       [1.        , 0.        , 0.97530864, 0.0304878 , 0.00819672],\n",
       "       [0.224     , 0.18942731, 0.0308642 , 0.42073171, 0.66393443],\n",
       "       [0.52      , 0.14977974, 0.        , 0.54878049, 0.3852459 ],\n",
       "       [0.852     , 0.27312775, 0.60493827, 1.        , 1.        ]])"
      ]
     },
     "execution_count": 30,
     "metadata": {},
     "output_type": "execute_result"
    }
   ],
   "source": [
    "X_norm = (X - min_X) / dif\n",
    "X_norm"
   ]
  },
  {
   "cell_type": "code",
   "execution_count": 31,
   "metadata": {},
   "outputs": [
    {
     "data": {
      "text/plain": [
       "(1.0, 0.0)"
      ]
     },
     "execution_count": 31,
     "metadata": {},
     "output_type": "execute_result"
    }
   ],
   "source": [
    "X_norm.max(), X_norm.min()"
   ]
  },
  {
   "cell_type": "code",
   "execution_count": null,
   "metadata": {},
   "outputs": [],
   "source": []
  }
 ],
 "metadata": {
  "kernelspec": {
   "display_name": "Python 3",
   "language": "python",
   "name": "python3"
  },
  "language_info": {
   "codemirror_mode": {
    "name": "ipython",
    "version": 3
   },
   "file_extension": ".py",
   "mimetype": "text/x-python",
   "name": "python",
   "nbconvert_exporter": "python",
   "pygments_lexer": "ipython3",
   "version": "3.8.6"
  }
 },
 "nbformat": 4,
 "nbformat_minor": 4
}
