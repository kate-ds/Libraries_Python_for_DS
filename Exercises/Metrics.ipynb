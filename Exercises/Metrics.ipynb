{
 "cells": [
  {
   "cell_type": "markdown",
   "metadata": {},
   "source": [
    "__1.__ Приведите по 2 примера, когда лучше максимизировать Precision, а когда Recall."
   ]
  },
  {
   "cell_type": "markdown",
   "metadata": {},
   "source": [
    "Recall максимизируется в том случае, когда важно минимизировать пропуск положительного исхода. Например, в случае прогнозирования оттока клиента у оператора сотовой связи (здесь важно не пропустить «уходящего» клиента). Или, например, прогнозирование какой-либо болезни, или выхода из строя оборудование. Если алгоритм неверно предскажет положительный исход, это будет не так страшно, как если алгоритм не отнесет к отрицательному исходу случай, являющийся на самом деле положительным. Precision максимизируется в том случае, когда важно минимизировать число ложно положительных ответов. Например, когда нужно определить как можно большую группу людей, которые воспользуются предложенной банком услугой, или возможно заинтересует спецпредложение интернет-магазина, но клиентов слишком много и отправить сразу всем экономически затратно."
   ]
  },
  {
   "cell_type": "markdown",
   "metadata": {},
   "source": [
    "__2.__ Почему мы используем F-меру, почему, например, нельзя просто взять среднее от Precision и Recall?"
   ]
  },
  {
   "cell_type": "markdown",
   "metadata": {},
   "source": [
    "Среднее арифметическое считать неправильно, так как precision и recall являются разными величинами (разные знаменатели), по-этому усреднять их некорректно. Чтобы оценить среднюю величину нужно усреднить их взаимные отношения. Кроме того, неинформативно: если взять среднее арифметическое, имея хорошее значение одной метрики, и плохое - другой, среднее будет скорее всего хорошим результатом, в то время, как F-мера стремится к нулю, когда одна из метрик стремится к нулю, и увеличивается с ростом обеих метрик. Также F-мера позволяет балансировать вклад каждой из компонент."
   ]
  },
  {
   "cell_type": "markdown",
   "metadata": {},
   "source": [
    "__3*__ Реализовать функции для подсчета Accuracy, Precision, Recall, F-score, которые на вход принимают y_true (истинные значения), y_pred (предсказанные значения), а на выход дается метрика."
   ]
  },
  {
   "cell_type": "code",
   "execution_count": 26,
   "metadata": {},
   "outputs": [],
   "source": [
    "y_true = [1, 1, 0, 0, 1, 1, 0, 0, 0, 1, 0, 0, 1, 1, 0]\n",
    "y_pred = [1, 0, 0, 0, 1, 1, 0, 0, 0, 1, 0, 0, 1, 0, 1]"
   ]
  },
  {
   "cell_type": "code",
   "execution_count": 39,
   "metadata": {},
   "outputs": [
    {
     "data": {
      "text/plain": [
       "(5, 1, 7, 2)"
      ]
     },
     "execution_count": 39,
     "metadata": {},
     "output_type": "execute_result"
    }
   ],
   "source": [
    "def calc(y_true, y_pred):\n",
    "    TP = len([e for e in map(lambda x,y: (y==1) & (x == y), y_true, y_pred) if e])\n",
    "    FP = len([e for e in map(lambda x,y: (y==1) & (x != y), y_true, y_pred) if e])\n",
    "    TN = len([e for e in map(lambda x,y: (y==0) & (x == y), y_true, y_pred) if e])\n",
    "    FN = len([e for e in map(lambda x,y: (y==0) & (x != y), y_true, y_pred) if e])\n",
    "    return TP, FP, TN, FN"
   ]
  },
  {
   "cell_type": "code",
   "execution_count": 40,
   "metadata": {},
   "outputs": [
    {
     "data": {
      "text/plain": [
       "0.8"
      ]
     },
     "execution_count": 40,
     "metadata": {},
     "output_type": "execute_result"
    }
   ],
   "source": [
    "def accuracy(y_true, y_pred):\n",
    "    TP, FP, TN, FN = calc(y_true, y_pred)\n",
    "    return (TP + TN) / (TP + FP + TN + FN)\n",
    "\n",
    "accuracy(y_true, y_pred)"
   ]
  },
  {
   "cell_type": "code",
   "execution_count": 41,
   "metadata": {},
   "outputs": [
    {
     "data": {
      "text/plain": [
       "0.8333333333333334"
      ]
     },
     "execution_count": 41,
     "metadata": {},
     "output_type": "execute_result"
    }
   ],
   "source": [
    "def precision(y_true, y_pred):\n",
    "    TP, FP, TN, FN = calc(y_true, y_pred)\n",
    "    return TP / (TP + FP)\n",
    "\n",
    "precision(y_true, y_pred)"
   ]
  },
  {
   "cell_type": "code",
   "execution_count": 42,
   "metadata": {},
   "outputs": [
    {
     "data": {
      "text/plain": [
       "0.7142857142857143"
      ]
     },
     "execution_count": 42,
     "metadata": {},
     "output_type": "execute_result"
    }
   ],
   "source": [
    "def recall(y_true, y_pred):\n",
    "    TP, FP, TN, FN = calc(y_true, y_pred)\n",
    "    return TP / (TP + FN)\n",
    "\n",
    "recall(y_true, y_pred)"
   ]
  },
  {
   "cell_type": "code",
   "execution_count": 47,
   "metadata": {},
   "outputs": [
    {
     "data": {
      "text/plain": [
       "0.967741935483871"
      ]
     },
     "execution_count": 47,
     "metadata": {},
     "output_type": "execute_result"
    }
   ],
   "source": [
    "def fscore(y_true, y_pred, beta=0.5):\n",
    "    return (1 + beta)* recall(y_true, y_pred)* precision(y_true, y_pred)/ (beta**2 *precision(y_true, y_pred) + recall(y_true, y_pred)) \n",
    "\n",
    "fscore(y_true, y_pred, 0.5)"
   ]
  }
 ],
 "metadata": {
  "kernelspec": {
   "display_name": "Python 3",
   "language": "python",
   "name": "python3"
  },
  "language_info": {
   "codemirror_mode": {
    "name": "ipython",
    "version": 3
   },
   "file_extension": ".py",
   "mimetype": "text/x-python",
   "name": "python",
   "nbconvert_exporter": "python",
   "pygments_lexer": "ipython3",
   "version": "3.8.6"
  }
 },
 "nbformat": 4,
 "nbformat_minor": 4
}
